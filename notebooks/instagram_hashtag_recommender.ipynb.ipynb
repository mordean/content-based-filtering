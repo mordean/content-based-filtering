{
 "cells": [
  {
   "cell_type": "markdown",
   "id": "92112bf4",
   "metadata": {},
   "source": [
    "# Hashtag Recommender System\n",
    "\n",
    "## Objective:\n",
    "This notebook walks through the complete pipeline for building a content-based recommender system using past Instagram data. The goal is to suggest relevant, high-performing hashtags for a given caption by analyzing text similarity and engagement metrics."
   ]
  },
  {
   "cell_type": "markdown",
   "id": "94a3b70a",
   "metadata": {},
   "source": [
    "## 1. Load and Clean Data\n",
    "- Parse date, remove nulls, extract hashtags\n",
    "- Create engagement score"
   ]
  },
  {
   "cell_type": "code",
   "execution_count": 1,
   "id": "f4d096a3",
   "metadata": {},
   "outputs": [
    {
     "name": "stdout",
     "output_type": "stream",
     "text": [
      "        Date                                            Caption  \\\n",
      "0 2021-12-10  Here are some of the most important data visua...   \n",
      "1 2021-12-11  Here are some of the best data science project...   \n",
      "2 2021-12-12  Learn how to train a machine learning model an...   \n",
      "3 2021-12-13  Here’s how you can write a Python program to d...   \n",
      "4 2021-12-14  Plotting annotations while visualizing your da...   \n",
      "\n",
      "                                         HashtagList  EngagementScore  \n",
      "0  [finance, money, business, investing, investme...            343.0  \n",
      "1  [healthcare, health, covid, data, datascience,...            587.0  \n",
      "2  [data, datascience, dataanalysis, dataanalytic...            252.5  \n",
      "3  [python, pythonprogramming, pythonprojects, py...            529.0  \n",
      "4  [datavisualization, datascience, data, dataana...            285.0  \n"
     ]
    }
   ],
   "source": [
    "import pandas as pd\n",
    "import re\n",
    "\n",
    "df = pd.read_csv(\"../data/instagram-data.csv\")\n",
    "\n",
    "# Clean data\n",
    "df['Date'] = pd.to_datetime(df['Date'])\n",
    "df = df.dropna(subset = ['Caption']) # drop rows w/o captions\n",
    "df.fillna(0, inplace = True) # fill NaNs with 0\n",
    "df.drop_duplicates(inplace=True)\n",
    "\n",
    "# Create engagement score. Here, it's Engagement Score = Likes + 2*Shares + 2*Comments + 1.5*Saves + 3*Follows\n",
    "df['EngagementScore'] = (df['Likes'] + 2*df['Shares'] + 2*df['Comments'] + 1.5*df['Saves'] + 3*df['Follows'])\n",
    "\n",
    "# Extract hashtags\n",
    "def extract_hashtags(text):\n",
    "    return re.findall(r'#(\\w+)', str(text.lower()))\n",
    "df['HashtagList'] = df['Hashtags'].apply(extract_hashtags) # Row by row application of hashtag extraction\n",
    "\n",
    "# Display first few rows\n",
    "print(df[['Date', 'Caption', 'HashtagList', 'EngagementScore']].head())"
   ]
  },
  {
   "cell_type": "markdown",
   "id": "4689e676",
   "metadata": {},
   "source": [
    "## 2. TF-IDF Vectorization\n",
    "- Vectorize captions\n",
    "- Compute cosine similarity"
   ]
  },
  {
   "cell_type": "code",
   "execution_count": 2,
   "id": "0a5e5b94",
   "metadata": {},
   "outputs": [],
   "source": [
    "from sklearn.feature_extraction.text import TfidfVectorizer\n",
    "from sklearn.metrics.pairwise import cosine_similarity\n",
    "\n",
    "# Create TF-IDF matrix from captions\n",
    "tfidf = TfidfVectorizer(stop_words = 'english') # Init\n",
    "tfidf_matrix = tfidf.fit_transform(df['Caption'])\n",
    "\n",
    "# Compute cosine similarity between all posts\n",
    "cos_sim_matrix = cosine_similarity(tfidf_matrix, tfidf_matrix)"
   ]
  },
  {
   "cell_type": "markdown",
   "id": "68be7f83",
   "metadata": {},
   "source": [
    "## 3. Similarity Recommender and Output\n",
    "- Loops through multiple Instagram posts to comute similarity-based hashtag recommendations using caption text and cosine similarity\n",
    "- Filters similar posts by above-median engagement and exports the top ranked hashtags for the first 10 query posts to a CSV"
   ]
  },
  {
   "cell_type": "code",
   "execution_count": null,
   "id": "57c8ef3f",
   "metadata": {},
   "outputs": [
    {
     "name": "stdout",
     "output_type": "stream",
     "text": [
      "\n",
      "Query caption [0]: Here are some of the most important data visualizations that every Financial Data Analyst/Scientist should know.\n",
      "\n",
      "Query caption [1]: Here are some of the best data science project ideas on healthcare. If you want to become a data science professional in the healthcare domain then you must try to work on these projects.\n",
      "\n",
      "Query caption [2]: Learn how to train a machine learning model and giving inputs to your trained model to make predictions using Python.\n",
      "\n",
      "Query caption [3]: Here’s how you can write a Python program to detect whether a sentence is a question or not. The idea here is to find the words that we see in the beginning of a question in the beginning of a sentence.\n",
      "\n",
      "Query caption [4]: Plotting annotations while visualizing your data is considered good practice to make the graphs self-explanatory. Here is an example of how you can annotate a graph using Python.\n",
      "\n",
      "Query caption [5]: Here are some of the most important soft skills that every data scientist should have.\n",
      "\n",
      "Query caption [6]: Learn how to analyze a candlestick chart as a data scientist or a financial analyst. I hope this resource will help you to invest and analyze stock markets.\n",
      "\n",
      "Query caption [7]: Here are some of the best books that you can follow to learn Python from scratch.\n",
      "\n",
      "Query caption [8]: Here are some of the best data analysis project ideas that you should try and show on your resume. These projects will help you to show your data analysis skills.\n",
      "\n",
      "Query caption [9]: Here are two best ways to count the number of letters in a string using Python.\n"
     ]
    }
   ],
   "source": [
    "top_n = 5  # Number of hashtags to recommend\n",
    "min_engagement = df['EngagementScore'].median()  # Filter threshold\n",
    "all_outputs = [] \n",
    "\n",
    "# Loop through the first 10 posts. This is the sample used for the Tableau output.\n",
    "for idx in range(10):\n",
    "    caption_text = df.loc[idx, 'Caption']\n",
    "    print(f\"\\nQuery caption [{idx}]:\", caption_text)\n",
    "\n",
    "    # Step 1: Get similar posts\n",
    "    # Each row in cos_sim_matrix[idx] represents similarity to another post\n",
    "    similarities = list(enumerate(cos_sim_matrix[idx]))  # (post_index, similarity_score)\n",
    "\n",
    "    # Sort by similarity score in descending order\n",
    "    similarities = sorted(similarities, key=lambda x: x[1], reverse=True)\n",
    "\n",
    "    # Remove the post itself from the list\n",
    "    similar_posts = []\n",
    "    for post_index, score in similarities:\n",
    "        if post_index != idx:\n",
    "            similar_posts.append((post_index, score))\n",
    "\n",
    "    # Step 2: Gather recommended hashtags\n",
    "    recommended_tags = []\n",
    "\n",
    "    # Loop through similar posts to collect hashtags\n",
    "    for post_index, score in similar_posts:\n",
    "        # Only consider posts with good engagement\n",
    "        if df.loc[post_index, 'EngagementScore'] >= min_engagement:\n",
    "            tags = df.loc[post_index, 'HashtagList']\n",
    "            recommended_tags.extend(tags)  # Add all tags from this post\n",
    "            if len(recommended_tags) >= top_n:\n",
    "                break\n",
    "\n",
    "    # Remove duplicates while preserving order and limit to top_n =  5 (number of hashtags to recommend)\n",
    "    seen = set() # List to store hashtags without duplicates\n",
    "    unique_tags = [] # Set to track tags that have already been seen \n",
    "    for tag in recommended_tags:\n",
    "        if tag not in seen:\n",
    "            seen.add(tag)\n",
    "            unique_tags.append(tag)\n",
    "    recommended_tags = unique_tags[:top_n]\n",
    "\n",
    "    # Step 3: Score the recommended hashtags\n",
    "    for rank, tag in enumerate(recommended_tags, start = 1):\n",
    "        # Find the similar posts that contributed to this hashtag and passed the engagement filter\n",
    "        contributing_posts = []\n",
    "        for post_index, score in similar_posts:\n",
    "            has_tag = tag in df.loc[post_index, 'HashtagList']\n",
    "            good_engagement = df.loc[post_index, 'EngagementScore'] >= min_engagement\n",
    "            if has_tag and good_engagement:\n",
    "                contributing_posts.append(post_index)\n",
    "\n",
    "        # If it's a contriuting post, I get its scores\n",
    "        if contributing_posts:\n",
    "            source_post = contributing_posts[0]\n",
    "            similarity_score = None\n",
    "            for idx_, score in similar_posts:\n",
    "                if idx_ == source_post:\n",
    "                    similarity_score = score\n",
    "                    break\n",
    "            engagement_score = df.loc[source_post, 'EngagementScore']\n",
    "        else:\n",
    "            similarity_score = None\n",
    "            engagement_score = None\n",
    "\n",
    "        # Add the result for this hashtag\n",
    "        all_outputs.append({\n",
    "            'QueryPostIndex': idx,\n",
    "            'QueryCaption': caption_text,\n",
    "            'RecommendedHashtag': tag,\n",
    "            'Rank': rank,\n",
    "            'SimilarityScore': similarity_score,\n",
    "            'EngagementScore': engagement_score\n",
    "        })\n",
    "\n",
    "# Step 4: Save the results\n",
    "final_df = pd.DataFrame(all_outputs)\n",
    "final_df.to_csv(\"../data/recommended_hashtags_multiple_posts.csv\", index = False)"
   ]
  }
 ],
 "metadata": {
  "kernelspec": {
   "display_name": "stats",
   "language": "python",
   "name": "python3"
  },
  "language_info": {
   "codemirror_mode": {
    "name": "ipython",
    "version": 3
   },
   "file_extension": ".py",
   "mimetype": "text/x-python",
   "name": "python",
   "nbconvert_exporter": "python",
   "pygments_lexer": "ipython3",
   "version": "3.12.3"
  }
 },
 "nbformat": 4,
 "nbformat_minor": 5
}
